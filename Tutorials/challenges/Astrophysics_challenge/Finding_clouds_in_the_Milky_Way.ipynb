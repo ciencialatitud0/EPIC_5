{
 "cells": [
  {
   "cell_type": "markdown",
   "id": "7e8e3f7a",
   "metadata": {},
   "source": [
    "# Cloud finding in the gas of the Milky Way\n",
    "\n",
    "The goal of this challeneg is to find high velocity clouds and schells (or bubbles) in the neutral hydrogen (HI) gas of the Milky Way. \n",
    "\n",
    "Bubbles and shells are very common in spiral galaxies. The origin of these bubbles is mostly associated with star formation activity. High-mass, young stars have very strong radiation fields and can create bubble like structures where the inside of the bubble contains hot, ionized gas and the shell or surface of the bubble contains colder, atomic gas. \n",
    "\n",
    "The high-mass stars have a very short lifetime, when they finish fusing all the fusable gas inside them they explode as supernovae. Supernovae are very energetic explosions and they can also create bubble like structures in the interstellar medium of galaxies. The largest bubbles can extend above or below of the disk of a spiral galaxy. \n",
    "\n",
    "\n",
    "## Main Challenge:\n",
    "- Find the bubble from the presentation in data cube: gass_bubble_full_disk.fits.\n",
    "- This bubble is extending from the disk of the Milky Way in the southern direction. There is also a second bubble extending from the same part of the disk in the Northern direction. Find the northern bubble.\n",
    "- Characterise the properties of the edge of the bubble:\n",
    "    - caluclate the size of the bubble in pixels and arcseconds.\n",
    "        - the header of the fits cube contains the metadata that describes the pixel size in degrees.\n",
    "    - calculate the column denisty of the gas based on the integrated intensity of the identified structures.\n",
    "- What other structures can you identify in the data cube?\n",
    "\n",
    "Calculating the columndenisty of the neutral hydrogen (HI) gas:\n",
    "$$N(HI) = 1.823 \\times 10^{18} cm^{−2}(K km s^−1})^{−1} \\times  \\int_{\\Delta v} T_{B}(v)dv$$\n",
    "\n",
    "**Data cubes**: https://www.dropbox.com/scl/fo/uawo8vgo332v0fiixlpcl/AGuxyyVq---oawZg6msEPxM?rlkey=vudu24ugyoeo1j4vx3yqv9jpd&dl=0\n",
    "\n",
    "The **data** used in this Challage comes from the GASS survey (https://www.parkes.atnf.csiro.au/research/GASS) and is publicly available from the GASS data cube server: https://www.astro.uni-bonn.de/hisurvey/gass/index.php\n",
    "- Dimensions of the data: Galactic latitude (l), Galactic longitude (b), velocity (v)\n",
    "- The intensity values are Brightness temperature $T_{B}$, which has the units of Kelvins. \n",
    "\n",
    "**Resources:**\n",
    "- Clump finding tutorials: https://github.com/ciencialatitud0/EPIC_5/tree/main/Tutorials/tutorial_3\n",
    "- Working with 3D fits cubes: https://github.com/helgadenes/Astrophysics_yachay/tree/main/python_tutorials/3D_data_cubes\n",
    "- Hydrogen spectral line tutorial: https://github.com/Astronomia-Ecuador/Bootcamp2025/blob/main/CursoB_Semana2/Spectral_line_decomposition/spectral_line.ipynb \n",
    "- CARTA fits viewer: https://cartavis.org \n",
    "- DS9 fits viewer: https://sites.google.com/cfa.harvard.edu/saoimageds9\n",
    "- The pdf presentation of the challenge: https://github.com/ciencialatitud0/EPIC_5/blob/main/Dorothy_Coding_Challenge/Stage_3/Astrophysics_challenge/EPIC_5_astrophysics_challenge.pdf \n",
    "\n",
    "## To start:\n",
    "1. Download the data file (gass_bubble_full_disk.fits).\n",
    "2. Read in the data from the fits data cube with fits.open() (https://docs.astropy.org/en/latest/io/fits/index.html).\n",
    "3. Visualise the data in the 3D Data cube.\n",
    "4. Identify where is the signal in the data cube. (Hint: The first part and the last part of the data cube contain only noise.)\n",
    "5. Choose a method to find clouds.\n",
    "6. Implement the cloud finding algorythm (Hint: Try to find structures in 2D first and then progress to 3D)\n",
    "7. Compare the results of different cloud finding algorythms. Some methods mey work better than others.\n",
    "8. What structures did you find? \n",
    "    - Did you find the two bubbles?\n",
    "    - Did you find other structures?\n",
    "9. Characterise the structures that you found. \n",
    "    - caluclate the size of the bubble in pixels and arcseconds.\n",
    "        - the header of the fits cube contains the metadata that describes the pixel size in degrees.\n",
    "    - calculate the column denisty of the gas based on the integrated intensity of the identified structures."
   ]
  },
  {
   "cell_type": "code",
   "execution_count": null,
   "id": "09f2aafe",
   "metadata": {},
   "outputs": [],
   "source": []
  }
 ],
 "metadata": {
  "kernelspec": {
   "display_name": "Python 3 (ipykernel)",
   "language": "python",
   "name": "python3"
  },
  "language_info": {
   "codemirror_mode": {
    "name": "ipython",
    "version": 3
   },
   "file_extension": ".py",
   "mimetype": "text/x-python",
   "name": "python",
   "nbconvert_exporter": "python",
   "pygments_lexer": "ipython3",
   "version": "3.8.8"
  }
 },
 "nbformat": 4,
 "nbformat_minor": 5
}
