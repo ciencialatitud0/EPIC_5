{
 "cells": [
  {
   "cell_type": "markdown",
   "id": "eacedd40",
   "metadata": {},
   "source": [
    "# Cloud finding in the gas of the Milky Way\n",
    "\n",
    "The goal of this challeneg is to find high velocity clouds and schells (or bubbles) in the neutral hydrogen gas of the Milky Way.\n",
    "\n",
    "Main Challenge:\n",
    "- Find the bubble from the presentation in data cube: gass_bubble_full_disk.fits.\n",
    "- This bubble is extending from the disk of the Milky Way in the southern direction. There is also a second bubble extending from the same part of the disk in the Northern direction. Find the northern bubble.\n",
    "- Characterise the properties of the edge of the bubble:\n",
    "    - caluclate the size of the bubble in pixels and arcseconds.\n",
    "        - the header of the fits cube contains the metadata that describes the pixel size in degrees.\n",
    "    - calculate the column denisty of the gas based on the integrated intensity of the identified structures.\n",
    "- What other structures can you identify in the data cube\n",
    "\n",
    "Calculating the columndenisty of the neutral hydrogen (HI) gas:\n",
    "$$N(HI) = 1.823 \\times 10^{18} cm^{−2}(K km s{^−1})^{−1} \\times  \\int_{\\Delta v} T_{B}(v)dv$$\n",
    "\n",
    "**Data cubes**: https://www.dropbox.com/scl/fo/uawo8vgo332v0fiixlpcl/AGuxyyVq---oawZg6msEPxM?rlkey=vudu24ugyoeo1j4vx3yqv9jpd&dl=0\n",
    "\n",
    "The **data** used in this Challage comes from the GASS survey (https://www.parkes.atnf.csiro.au/research/GASS) and is publickly available from the GASS data cube server: https://www.astro.uni-bonn.de/hisurvey/gass/index.php\n",
    "- Dimensions of the data: Galactic latitude (l), Galactic longitude (b), velocity (v)\n",
    "\n",
    "**Resources:**\n",
    "- Clump finding tutorials: https://github.com/ciencialatitud0/EPIC_5/tree/main/Tutorials/tutorial_3\n",
    "- Working with 3D fits cubes: https://github.com/helgadenes/Astrophysics_yachay/tree/main/python_tutorials/3D_data_cubes\n",
    "- Hydrogen spectral line tutorial: https://github.com/Astronomia-Ecuador/Bootcamp2025/blob/main/CursoB_Semana2/Spectral_line_decomposition/spectral_line.ipynb \n",
    "- CARTA fits viewer: https://cartavis.org \n",
    "- DS9 fits viewer: https://sites.google.com/cfa.harvard.edu/saoimageds9\n",
    "\n",
    "## To start:\n",
    "- Download the data file (gass_bubble_full_disk.fits)\n",
    "- Read in the data from the fits data cube with fits.open() (https://docs.astropy.org/en/latest/io/fits/index.html)\n",
    "- Visualise the data in the 3D Data cube\n",
    "- Identify where is the signal in the data cube (Hint: The first part and the last part of the data cube contain only noise.)\n",
    "- Choose a method to find clouds\n",
    "- Implement the cloud finding algorythm \n",
    "- Characterise the structures that you found"
   ]
  },
  {
   "cell_type": "code",
   "execution_count": null,
   "id": "b4aca022",
   "metadata": {},
   "outputs": [],
   "source": []
  }
 ],
 "metadata": {
  "kernelspec": {
   "display_name": "Python 3 (ipykernel)",
   "language": "python",
   "name": "python3"
  },
  "language_info": {
   "codemirror_mode": {
    "name": "ipython",
    "version": 3
   },
   "file_extension": ".py",
   "mimetype": "text/x-python",
   "name": "python",
   "nbconvert_exporter": "python",
   "pygments_lexer": "ipython3",
   "version": "3.8.8"
  }
 },
 "nbformat": 4,
 "nbformat_minor": 5
}
